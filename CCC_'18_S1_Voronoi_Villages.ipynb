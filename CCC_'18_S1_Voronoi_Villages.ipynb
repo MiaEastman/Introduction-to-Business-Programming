{
  "nbformat": 4,
  "nbformat_minor": 0,
  "metadata": {
    "colab": {
      "name": "CCC '18 S1 - Voronoi Villages.ipynb",
      "provenance": [],
      "authorship_tag": "ABX9TyNUxYqpT3SU9OdUZPmx0o7+",
      "include_colab_link": true
    },
    "kernelspec": {
      "name": "python3",
      "display_name": "Python 3"
    },
    "language_info": {
      "name": "python"
    }
  },
  "cells": [
    {
      "cell_type": "markdown",
      "metadata": {
        "id": "view-in-github",
        "colab_type": "text"
      },
      "source": [
        "<a href=\"https://colab.research.google.com/github/MiaEastman/Introduction-to-Business-Programming/blob/main/CCC_'18_S1_Voronoi_Villages.ipynb\" target=\"_parent\"><img src=\"https://colab.research.google.com/assets/colab-badge.svg\" alt=\"Open In Colab\"/></a>"
      ]
    },
    {
      "cell_type": "code",
      "source": [
        "#Prompt N, number of villages\n",
        "while True:\n",
        "  N = (input('Enter number of villages: '))\n",
        "  if N.isdigit():\n",
        "    break\n",
        "  else:\n",
        "    print('Please enter a whole number')\n",
        "\n",
        "print('Number of villages is: ' + N)\n",
        "\n",
        "#Generate N random numbers between 0 and 10\n",
        "import random\n",
        "positions = random.sample(range(0, 10), int(N))\n",
        "\n",
        "print(positions)\n",
        "\n",
        "#Sort in variable 'posistions' in decending order \n",
        "positions_sorted = sorted(positions)\n",
        "\n",
        "print(positions_sorted)\n",
        "\n",
        "#For loop\n",
        "for i in range(1, len(N)):\n",
        "\n",
        "  left = int((i-(i-1))/2)\n",
        "  right =int(((i+1)-1)/2)\n",
        "  size = left + right\n",
        "  positions_sorted.append(size)\n",
        "\n",
        "#Find minimum position\n",
        "true_min = min(positions_sorted)\n",
        "print(true_min)"
      ],
      "metadata": {
        "id": "HGOXkzMrOZto",
        "outputId": "17c75b75-803d-4efd-a938-83390c92e20f",
        "colab": {
          "base_uri": "https://localhost:8080/"
        }
      },
      "execution_count": 29,
      "outputs": [
        {
          "output_type": "stream",
          "name": "stdout",
          "text": [
            "Enter number of villages: 7\n",
            "Number of villages is: 7\n",
            "[2, 1, 3, 5, 4, 7, 8]\n",
            "[1, 2, 3, 4, 5, 7, 8]\n",
            "1\n"
          ]
        }
      ]
    },
    {
      "cell_type": "code",
      "execution_count": 27,
      "metadata": {
        "colab": {
          "base_uri": "https://localhost:8080/"
        },
        "id": "0vhYYVTdNDoA",
        "outputId": "aead6fec-89e5-4e0f-cbc2-680a07bf8a1e"
      },
      "outputs": [
        {
          "output_type": "stream",
          "name": "stdout",
          "text": [
            "Enter number of villages: 7\n",
            "Number of villages is: 7\n",
            "[1, 3, 9, 4, 6, 5, 8]\n",
            "[1, 3, 4, 5, 6, 8, 9]\n",
            "1\n"
          ]
        }
      ],
      "source": [
        "#Prompt N, number of villages\n",
        "while True:\n",
        "  N = (input('Enter number of villages: '))\n",
        "  if N.isdigit():\n",
        "    break\n",
        "  else:\n",
        "    print('Please enter a whole number')\n",
        "\n",
        "print('Number of villages is: ' + N)\n",
        "\n",
        "#Generate N random numbers between 0 and 10\n",
        "import random\n",
        "positions = random.sample(range(0, 10), int(N))\n",
        "\n",
        "print(positions)\n",
        "\n",
        "#Sort in variable 'posistions' in decending order \n",
        "positions_sorted = sorted(positions)\n",
        "\n",
        "print(positions_sorted)\n",
        "\n",
        "#For loop\n",
        "for i in range(1, len(N)):\n",
        "  #positions_sorted.append(int(i-(i-1))/2) + int((i+1)-i)/2)\n",
        "  #positions_sorted.append(int( (i-(i-1))/2 + ((i+1)-1)/2))\n",
        "\n",
        "  left = int((i-(i-1))/2)\n",
        "  right =int(((i+1)-1)/2)\n",
        "  size = left + right\n",
        "  positions_sorted.append(size)\n",
        "\n",
        "#Find minimum position\n",
        "true_min = min(positions_sorted)\n",
        "print(true_min)"
      ]
    },
    {
      "cell_type": "markdown",
      "source": [
        "left = \n",
        "right = ((i+1)-i)/2\n",
        "size = left + right\n",
        "sizes.append(size)"
      ],
      "metadata": {
        "id": "ei49ckGjqHj2"
      }
    },
    {
      "cell_type": "markdown",
      "source": [
        "Sort help: https://realpython.com/python-sort/\n",
        "\n",
        "Random help: https://www.tutorialspoint.com/generating-random-number-list-in-python"
      ],
      "metadata": {
        "id": "BuSWBnPzXK_R"
      }
    },
    {
      "cell_type": "code",
      "source": [
        "range(1, N-1)\n",
        "left = (i-(i-1))/2\n",
        "right = ((i+1)-1)/2\n",
        "size = left + right "
      ],
      "metadata": {
        "id": "GU0NWPmDEnal"
      },
      "execution_count": null,
      "outputs": []
    }
  ]
}