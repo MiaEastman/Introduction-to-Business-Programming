{
  "nbformat": 4,
  "nbformat_minor": 0,
  "metadata": {
    "colab": {
      "name": "CCC '18 S1 - Voronoi Villages.ipynb",
      "provenance": [],
      "authorship_tag": "ABX9TyPSCj9PR3xdLxohGBc/w1WD",
      "include_colab_link": true
    },
    "kernelspec": {
      "name": "python3",
      "display_name": "Python 3"
    },
    "language_info": {
      "name": "python"
    }
  },
  "cells": [
    {
      "cell_type": "markdown",
      "metadata": {
        "id": "view-in-github",
        "colab_type": "text"
      },
      "source": [
        "<a href=\"https://colab.research.google.com/github/MiaEastman/Introduction-to-Business-Programming/blob/main/CCC_'18_S1_Voronoi_Villages.ipynb\" target=\"_parent\"><img src=\"https://colab.research.google.com/assets/colab-badge.svg\" alt=\"Open In Colab\"/></a>"
      ]
    },
    {
      "cell_type": "code",
      "execution_count": 20,
      "metadata": {
        "colab": {
          "base_uri": "https://localhost:8080/",
          "height": 305
        },
        "id": "0vhYYVTdNDoA",
        "outputId": "e464ffd5-f280-44ac-da4e-cf6cba355b86"
      },
      "outputs": [
        {
          "output_type": "stream",
          "name": "stdout",
          "text": [
            "Enter number of villages: 5\n",
            "Number of villages is: 5\n",
            "[0, 1, 9, 8, 2]\n",
            "[0, 1, 2, 8, 9]\n"
          ]
        },
        {
          "output_type": "error",
          "ename": "TypeError",
          "evalue": "ignored",
          "traceback": [
            "\u001b[0;31m---------------------------------------------------------------------------\u001b[0m",
            "\u001b[0;31mTypeError\u001b[0m                                 Traceback (most recent call last)",
            "\u001b[0;32m<ipython-input-20-ff5dfd87d65a>\u001b[0m in \u001b[0;36m<module>\u001b[0;34m()\u001b[0m\n\u001b[1;32m     21\u001b[0m \u001b[0;34m\u001b[0m\u001b[0m\n\u001b[1;32m     22\u001b[0m \u001b[0;31m#For loop\u001b[0m\u001b[0;34m\u001b[0m\u001b[0;34m\u001b[0m\u001b[0;34m\u001b[0m\u001b[0m\n\u001b[0;32m---> 23\u001b[0;31m \u001b[0;32mfor\u001b[0m \u001b[0mi\u001b[0m \u001b[0;32min\u001b[0m \u001b[0mrange\u001b[0m\u001b[0;34m(\u001b[0m\u001b[0;36m1\u001b[0m\u001b[0;34m,\u001b[0m \u001b[0mN\u001b[0m\u001b[0;34m-\u001b[0m\u001b[0;36m1\u001b[0m\u001b[0;34m)\u001b[0m\u001b[0;34m:\u001b[0m\u001b[0;34m\u001b[0m\u001b[0;34m\u001b[0m\u001b[0m\n\u001b[0m\u001b[1;32m     24\u001b[0m   \u001b[0;31m#positions_sorted.append((int((i-(i-1))/2)) + (int((i+1)-i)/2))\u001b[0m\u001b[0;34m\u001b[0m\u001b[0;34m\u001b[0m\u001b[0;34m\u001b[0m\u001b[0m\n\u001b[1;32m     25\u001b[0m   \u001b[0mleft\u001b[0m \u001b[0;34m=\u001b[0m \u001b[0mint\u001b[0m\u001b[0;34m(\u001b[0m\u001b[0;34m(\u001b[0m\u001b[0mi\u001b[0m\u001b[0;34m-\u001b[0m\u001b[0;34m(\u001b[0m\u001b[0mi\u001b[0m\u001b[0;34m-\u001b[0m\u001b[0;36m1\u001b[0m\u001b[0;34m)\u001b[0m\u001b[0;34m)\u001b[0m\u001b[0;34m/\u001b[0m\u001b[0;36m2\u001b[0m\u001b[0;34m)\u001b[0m\u001b[0;34m\u001b[0m\u001b[0;34m\u001b[0m\u001b[0m\n",
            "\u001b[0;31mTypeError\u001b[0m: unsupported operand type(s) for -: 'str' and 'int'"
          ]
        }
      ],
      "source": [
        "#Prompt N, number of villages\n",
        "while True:\n",
        "  N = (input('Enter number of villages: '))\n",
        "  if N.isdigit():\n",
        "    break\n",
        "  else:\n",
        "    print('Please enter a whole number')\n",
        "\n",
        "print('Number of villages is: ' + N)\n",
        "\n",
        "#Generate N random numbers between 0 and 10\n",
        "import random\n",
        "positions = random.sample(range(0, 10), int(N))\n",
        "\n",
        "print(positions)\n",
        "\n",
        "#Sort in variable 'posistions' in decending order \n",
        "positions_sorted = sorted(positions)\n",
        "\n",
        "print(positions_sorted)\n",
        "\n",
        "#For loop\n",
        "for i in range(1, N-1):\n",
        "  #positions_sorted.append(int(i-(i-1))/2) + int((i+1)-i)/2)\n",
        "  positions_sorted.append(int( (i-(i-1))/2 + ((i+1)-1)/2))\n",
        "\n",
        "  #left = (i-(i-1))/2\n",
        "  #right =((i+1)-1)/2\n",
        "  #size = left + right\n",
        "  #positions_sorted.append(size)\n",
        "\n",
        "#Find minimum position\n",
        "mia = min(positions_sorted)\n",
        "print(mia)"
      ]
    },
    {
      "cell_type": "markdown",
      "source": [
        "left = \n",
        "right = ((i+1)-i)/2\n",
        "size = left + right\n",
        "sizes.append(size)"
      ],
      "metadata": {
        "id": "ei49ckGjqHj2"
      }
    },
    {
      "cell_type": "markdown",
      "source": [
        "Sort help: https://realpython.com/python-sort/\n",
        "\n",
        "Random help: https://www.tutorialspoint.com/generating-random-number-list-in-python"
      ],
      "metadata": {
        "id": "BuSWBnPzXK_R"
      }
    },
    {
      "cell_type": "code",
      "source": [
        "range(1, N-1)\n",
        "left = (i-(i-1))/2\n",
        "right = ((i+1)-1)/2\n",
        "size = left + right "
      ],
      "metadata": {
        "id": "GU0NWPmDEnal"
      },
      "execution_count": null,
      "outputs": []
    }
  ]
}