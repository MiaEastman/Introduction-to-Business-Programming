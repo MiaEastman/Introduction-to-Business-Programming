{
  "nbformat": 4,
  "nbformat_minor": 0,
  "metadata": {
    "colab": {
      "name": "CCC '18 S1 - Voronoi Villages.ipynb",
      "provenance": [],
      "authorship_tag": "ABX9TyNyR/tA3q33fagt+kY2p2pJ",
      "include_colab_link": true
    },
    "kernelspec": {
      "name": "python3",
      "display_name": "Python 3"
    },
    "language_info": {
      "name": "python"
    }
  },
  "cells": [
    {
      "cell_type": "markdown",
      "metadata": {
        "id": "view-in-github",
        "colab_type": "text"
      },
      "source": [
        "<a href=\"https://colab.research.google.com/github/MiaEastman/Introduction-to-Business-Programming/blob/main/CCC_'18_S1_Voronoi_Villages.ipynb\" target=\"_parent\"><img src=\"https://colab.research.google.com/assets/colab-badge.svg\" alt=\"Open In Colab\"/></a>"
      ]
    },
    {
      "cell_type": "code",
      "execution_count": 39,
      "metadata": {
        "colab": {
          "base_uri": "https://localhost:8080/",
          "height": 288
        },
        "id": "0vhYYVTdNDoA",
        "outputId": "b8b95db3-23af-416a-b42f-8b90a9e4b5f8"
      },
      "outputs": [
        {
          "output_type": "stream",
          "name": "stdout",
          "text": [
            "Enter number of villages: 4\n",
            "Number of villages is: 4\n",
            "[1, 7, 0, 6]\n",
            "[0, 1, 6, 7]\n"
          ]
        },
        {
          "output_type": "error",
          "ename": "TypeError",
          "evalue": "ignored",
          "traceback": [
            "\u001b[0;31m---------------------------------------------------------------------------\u001b[0m",
            "\u001b[0;31mTypeError\u001b[0m                                 Traceback (most recent call last)",
            "\u001b[0;32m<ipython-input-39-42830aed4fa8>\u001b[0m in \u001b[0;36m<module>\u001b[0;34m()\u001b[0m\n\u001b[1;32m     21\u001b[0m \u001b[0;34m\u001b[0m\u001b[0m\n\u001b[1;32m     22\u001b[0m \u001b[0;31m#For loop\u001b[0m\u001b[0;34m\u001b[0m\u001b[0;34m\u001b[0m\u001b[0;34m\u001b[0m\u001b[0m\n\u001b[0;32m---> 23\u001b[0;31m \u001b[0;32mfor\u001b[0m \u001b[0mi\u001b[0m \u001b[0;32min\u001b[0m \u001b[0mrange\u001b[0m\u001b[0;34m(\u001b[0m\u001b[0;36m1\u001b[0m\u001b[0;34m,\u001b[0m \u001b[0mN\u001b[0m\u001b[0;34m-\u001b[0m\u001b[0;36m1\u001b[0m\u001b[0;34m)\u001b[0m\u001b[0;34m:\u001b[0m\u001b[0;34m\u001b[0m\u001b[0;34m\u001b[0m\u001b[0m\n\u001b[0m\u001b[1;32m     24\u001b[0m   \u001b[0mpositions_sorted\u001b[0m\u001b[0;34m.\u001b[0m\u001b[0mappend\u001b[0m\u001b[0;34m(\u001b[0m\u001b[0;34m(\u001b[0m\u001b[0mi\u001b[0m\u001b[0;34m-\u001b[0m\u001b[0;34m(\u001b[0m\u001b[0mi\u001b[0m\u001b[0;34m-\u001b[0m\u001b[0;36m1\u001b[0m\u001b[0;34m)\u001b[0m\u001b[0;34m)\u001b[0m\u001b[0;34m/\u001b[0m\u001b[0;36m2\u001b[0m\u001b[0;34m)\u001b[0m \u001b[0;34m+\u001b[0m \u001b[0;34m(\u001b[0m\u001b[0;34m(\u001b[0m\u001b[0mi\u001b[0m\u001b[0;34m+\u001b[0m\u001b[0;36m1\u001b[0m\u001b[0;34m)\u001b[0m\u001b[0;34m-\u001b[0m\u001b[0mi\u001b[0m\u001b[0;34m)\u001b[0m\u001b[0;34m/\u001b[0m\u001b[0;36m2\u001b[0m\u001b[0;34m\u001b[0m\u001b[0;34m\u001b[0m\u001b[0m\n",
            "\u001b[0;31mTypeError\u001b[0m: unsupported operand type(s) for -: 'str' and 'int'"
          ]
        }
      ],
      "source": [
        "#Prompt N, number of villages\n",
        "while True:\n",
        "  N = (input('Enter number of villages: '))\n",
        "  if N.isdigit():\n",
        "    break\n",
        "  else:\n",
        "    print('Please enter a whole number')\n",
        "\n",
        "print('Number of villages is: ' + N)\n",
        "\n",
        "#Generate N random numbers between 0 and 10\n",
        "import random\n",
        "positions = random.sample(range(0, 10), int(N))\n",
        "\n",
        "print(positions)\n",
        "\n",
        "#Sort in variable 'posistions' in decending order \n",
        "positions_sorted = sorted(positions)\n",
        "\n",
        "print(positions_sorted)\n",
        "\n",
        "#For loop\n",
        "for i in range(1, N-1):\n",
        "  positions_sorted.append((i-(i-1))/2) + ((i+1)-i)/2"
      ]
    },
    {
      "cell_type": "code",
      "source": [
        "left = (i-(i-1))/2\n",
        "right = ((i+1)-i)/2\n",
        "size = left + right\n",
        "sizes.append(size)"
      ],
      "metadata": {
        "id": "ei49ckGjqHj2"
      },
      "execution_count": null,
      "outputs": []
    },
    {
      "cell_type": "markdown",
      "source": [
        "Sort help: https://realpython.com/python-sort/\n",
        "\n",
        "Random help: https://www.tutorialspoint.com/generating-random-number-list-in-python"
      ],
      "metadata": {
        "id": "BuSWBnPzXK_R"
      }
    }
  ]
}