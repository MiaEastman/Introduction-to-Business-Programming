{
  "nbformat": 4,
  "nbformat_minor": 0,
  "metadata": {
    "colab": {
      "name": "CCC '18 S1 - Voronoi Villages.ipynb",
      "provenance": [],
      "authorship_tag": "ABX9TyOiz9B1fzupNEBfPpkw6/TM",
      "include_colab_link": true
    },
    "kernelspec": {
      "name": "python3",
      "display_name": "Python 3"
    },
    "language_info": {
      "name": "python"
    }
  },
  "cells": [
    {
      "cell_type": "markdown",
      "metadata": {
        "id": "view-in-github",
        "colab_type": "text"
      },
      "source": [
        "<a href=\"https://colab.research.google.com/github/MiaEastman/Introduction-to-Business-Programming/blob/main/CCC_'18_S1_Voronoi_Villages.ipynb\" target=\"_parent\"><img src=\"https://colab.research.google.com/assets/colab-badge.svg\" alt=\"Open In Colab\"/></a>"
      ]
    },
    {
      "cell_type": "code",
      "execution_count": 18,
      "metadata": {
        "colab": {
          "base_uri": "https://localhost:8080/"
        },
        "id": "0vhYYVTdNDoA",
        "outputId": "d7bfb9f2-e349-48a4-f4a1-89dd5c45d41e"
      },
      "outputs": [
        {
          "output_type": "stream",
          "name": "stdout",
          "text": [
            "Enter number of villages: 5\n",
            "Number of villages is: 5\n",
            "[5, 8, 4, 2, 3]\n"
          ]
        },
        {
          "output_type": "execute_result",
          "data": {
            "text/plain": [
              "[2, 3, 4, 5, 8]"
            ]
          },
          "metadata": {},
          "execution_count": 18
        }
      ],
      "source": [
        "#Prompt N, number of villages\n",
        "while True:\n",
        "  N = (input('Enter number of villages: '))\n",
        "  if N.isdigit():\n",
        "    break\n",
        "  else:\n",
        "    print('Please enter a whole number')\n",
        "\n",
        "print('Number of villages is: ' + N)\n",
        "\n",
        "#Generate N random numbers between 0 and 10\n",
        "import random\n",
        "positions = random.sample(range(0, 10), int(N))\n",
        "\n",
        "print(positions)\n",
        "\n",
        "#Sort in variable 'posistions' in decending order \n",
        "positions_sorted = sorted(positions)\n",
        "\n",
        "#For loop\n",
        "for x in range(1,N-1)\n",
        "\n",
        "\n",
        "\n",
        "left = (i-(i-1))/2\n",
        "right = ((i+1)-i)/2\n",
        "size = left + right\n",
        "sizes.append(size)"
      ]
    },
    {
      "cell_type": "markdown",
      "source": [
        "Sort help: https://realpython.com/python-sort/\n",
        "\n",
        "Random help: https://www.tutorialspoint.com/generating-random-number-list-in-python"
      ],
      "metadata": {
        "id": "BuSWBnPzXK_R"
      }
    }
  ]
}