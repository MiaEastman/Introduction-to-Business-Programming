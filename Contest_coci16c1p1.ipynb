{
  "nbformat": 4,
  "nbformat_minor": 0,
  "metadata": {
    "colab": {
      "name": "Contest_coci16c1p1.ipynb",
      "provenance": [],
      "authorship_tag": "ABX9TyOIAifOyPO9m5JxxLtP7gYy",
      "include_colab_link": true
    },
    "kernelspec": {
      "name": "python3",
      "display_name": "Python 3"
    },
    "language_info": {
      "name": "python"
    }
  },
  "cells": [
    {
      "cell_type": "markdown",
      "metadata": {
        "id": "view-in-github",
        "colab_type": "text"
      },
      "source": [
        "<a href=\"https://colab.research.google.com/github/MiaEastman/Introduction-to-Business-Programming/blob/main/Contest_coci16c1p1.ipynb\" target=\"_parent\"><img src=\"https://colab.research.google.com/assets/colab-badge.svg\" alt=\"Open In Colab\"/></a>"
      ]
    },
    {
      "cell_type": "code",
      "source": [
        "mega_per_month = int(input(\"How many megebites are available per month? \"))\n",
        "months_of_use = int(input(\"How many months is this plan in use? \"))\n",
        "\n",
        "total = mega_per_month * (months_of_use + 1)\n",
        "\n",
        "for sample in range(months_of_use):\n",
        "  used = int(input(\"How many megebites were used? \"))\n",
        "  total = total - used\n",
        "\n",
        "print(\"The amount of megebites available in n+1 is\", total)"
      ],
      "metadata": {
        "colab": {
          "base_uri": "https://localhost:8080/"
        },
        "id": "h3O-PFxPeVOw",
        "outputId": "51501590-8746-4ee1-9781-5052dcf0ae2d"
      },
      "execution_count": 8,
      "outputs": [
        {
          "output_type": "stream",
          "name": "stdout",
          "text": [
            "How many megebites are available per month? 10\n",
            "How many months is this plan in use? 3\n",
            "How many megebites were used? 4\n",
            "How many megebites were used? 6\n",
            "How many megebites were used? 2\n",
            "The amount of megebites available in n+1 is 28\n"
          ]
        }
      ]
    },
    {
      "cell_type": "code",
      "source": [
        "x = int(input(\"How many megebites are available per month? \"))\n",
        "n = int(input(\"How many months is this plan in use? \"))\n",
        "\n",
        "total = x * (n + 1)\n",
        "\n",
        "for sample in range(n):\n",
        "  used = int(input(\"How many megebites were used? \"))\n",
        "  total = total - used\n",
        "\n",
        "print(\"The amount of megebites available in n+1 is\", total)"
      ],
      "metadata": {
        "colab": {
          "base_uri": "https://localhost:8080/"
        },
        "id": "nrFNmCy9jr4z",
        "outputId": "ec394f78-6e05-451f-c2e4-842273cf8819"
      },
      "execution_count": 10,
      "outputs": [
        {
          "output_type": "stream",
          "name": "stdout",
          "text": [
            "How many megebites are available per month? 10\n",
            "How many months is this plan in use? 3\n",
            "How many megebites were used? 4\n",
            "How many megebites were used? 6\n",
            "How many megebites were used? 2\n",
            "The amount of megebites available in n+1 is 28\n"
          ]
        }
      ]
    },
    {
      "cell_type": "code",
      "source": [
        "x = int(input())\n",
        "n = int(input())\n",
        "\n",
        "total = x * (n + 1)\n",
        "\n",
        "for sample in range(n):\n",
        "  used = int(input())\n",
        "  total = total - used\n",
        "\n",
        "print(total)"
      ],
      "metadata": {
        "id": "8D3zFCE2kgyN"
      },
      "execution_count": null,
      "outputs": []
    },
    {
      "cell_type": "markdown",
      "source": [
        "For DMOJ submissions you need to simply variable names (x,y,n) and remove concentration"
      ],
      "metadata": {
        "id": "sFFawRudkiMx"
      }
    },
    {
      "cell_type": "code",
      "source": [
        "# total - used1\n",
        "# new total - used2\n",
        "# new new total - used3 \n",
        "# = final total"
      ],
      "metadata": {
        "id": "MOHutfpkhvgB"
      },
      "execution_count": null,
      "outputs": []
    },
    {
      "cell_type": "code",
      "execution_count": 1,
      "metadata": {
        "id": "EZlR_3jUUFMb",
        "colab": {
          "base_uri": "https://localhost:8080/",
          "height": 131
        },
        "outputId": "3ee393da-a495-4813-ed65-693064d503f9"
      },
      "outputs": [
        {
          "output_type": "error",
          "ename": "IndentationError",
          "evalue": "ignored",
          "traceback": [
            "\u001b[0;36m  File \u001b[0;32m\"<ipython-input-1-7e273592b7bd>\"\u001b[0;36m, line \u001b[0;32m8\u001b[0m\n\u001b[0;31m    prompt = 'How many megebits were used for month 1? '\u001b[0m\n\u001b[0m         ^\u001b[0m\n\u001b[0;31mIndentationError\u001b[0m\u001b[0;31m:\u001b[0m expected an indented block\n"
          ]
        }
      ],
      "source": [
        "#Length of data plan\n",
        "prompt = 'How many months is your data plan? ' \n",
        "month_amount = input(prompt)\n",
        "\n",
        "#Data used\n",
        "while month_amount is not reached:\n",
        "  \n",
        "prompt = 'How many megebits were used for month 1? '\n",
        "used_1 = input(prompt)\n",
        "\n",
        "prompt = 'How many megebits were used for month 2? '\n",
        "used_2 = input(prompt)\n",
        "\n",
        "prompt = 'How many megebits were used for month 3? '\n",
        "used_3 = input(prompt)\n",
        "\n",
        "#Calculate total\n"
      ]
    },
    {
      "cell_type": "code",
      "source": [
        "#input monthly megabites\n",
        "mega_per_month = 10\n",
        "\n",
        "#input number of months\n",
        "months_of_use = 3\n",
        "\n",
        "#input data used\n",
        "prompt = 'How many megebits were used for month 1? '\n",
        "used_1 = input(prompt)\n",
        "\n",
        "prompt = 'How many megebits were used for month 2? '\n",
        "used_2 = input(prompt)\n",
        "\n",
        "prompt = 'How many megebits were used for month 3? '\n",
        "used_3 = input(prompt)\n",
        "\n",
        "#calculate total\n",
        "total_1 = int(mega_per_month - used_1)\n",
        "total_2 = int(total_1 - used_2 + mega_per_month)\n",
        "total_3 = int(total_2 - used_3 + mega_per_month)\n"
      ],
      "metadata": {
        "colab": {
          "base_uri": "https://localhost:8080/",
          "height": 288
        },
        "id": "EHbwQWSzXIjz",
        "outputId": "fc6e7341-3dfd-4cc7-a4ed-aee9c77e6b38"
      },
      "execution_count": 9,
      "outputs": [
        {
          "name": "stdout",
          "output_type": "stream",
          "text": [
            "How many megebits were used for month 1? 4\n",
            "How many megebits were used for month 2? 6\n",
            "How many megebits were used for month 3? 2\n"
          ]
        },
        {
          "output_type": "error",
          "ename": "TypeError",
          "evalue": "ignored",
          "traceback": [
            "\u001b[0;31m---------------------------------------------------------------------------\u001b[0m",
            "\u001b[0;31mTypeError\u001b[0m                                 Traceback (most recent call last)",
            "\u001b[0;32m<ipython-input-9-9cb78cece1ce>\u001b[0m in \u001b[0;36m<module>\u001b[0;34m()\u001b[0m\n\u001b[1;32m     16\u001b[0m \u001b[0;34m\u001b[0m\u001b[0m\n\u001b[1;32m     17\u001b[0m \u001b[0;31m#calculate total\u001b[0m\u001b[0;34m\u001b[0m\u001b[0;34m\u001b[0m\u001b[0;34m\u001b[0m\u001b[0m\n\u001b[0;32m---> 18\u001b[0;31m \u001b[0mtotal_1\u001b[0m \u001b[0;34m=\u001b[0m \u001b[0mint\u001b[0m\u001b[0;34m(\u001b[0m\u001b[0mmonthly_megabites\u001b[0m \u001b[0;34m-\u001b[0m \u001b[0mused_1\u001b[0m\u001b[0;34m)\u001b[0m\u001b[0;34m\u001b[0m\u001b[0;34m\u001b[0m\u001b[0m\n\u001b[0m\u001b[1;32m     19\u001b[0m \u001b[0mtotal_2\u001b[0m \u001b[0;34m=\u001b[0m \u001b[0mint\u001b[0m\u001b[0;34m(\u001b[0m\u001b[0mtotal_1\u001b[0m \u001b[0;34m-\u001b[0m \u001b[0mused_2\u001b[0m \u001b[0;34m+\u001b[0m \u001b[0mmonthly_megabites\u001b[0m\u001b[0;34m)\u001b[0m\u001b[0;34m\u001b[0m\u001b[0;34m\u001b[0m\u001b[0m\n\u001b[1;32m     20\u001b[0m \u001b[0mtotal_3\u001b[0m \u001b[0;34m=\u001b[0m \u001b[0mint\u001b[0m\u001b[0;34m(\u001b[0m\u001b[0mtotal_2\u001b[0m \u001b[0;34m-\u001b[0m \u001b[0mused_3\u001b[0m \u001b[0;34m+\u001b[0m \u001b[0mmonthly_megabites\u001b[0m\u001b[0;34m)\u001b[0m\u001b[0;34m\u001b[0m\u001b[0;34m\u001b[0m\u001b[0m\n",
            "\u001b[0;31mTypeError\u001b[0m: unsupported operand type(s) for -: 'int' and 'str'"
          ]
        }
      ]
    }
  ]
}