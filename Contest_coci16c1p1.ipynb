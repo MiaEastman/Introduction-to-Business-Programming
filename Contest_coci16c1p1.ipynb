{
  "nbformat": 4,
  "nbformat_minor": 0,
  "metadata": {
    "colab": {
      "name": "Contest_coci16c1p1.ipynb",
      "provenance": [],
      "authorship_tag": "ABX9TyMd2nq1dv2NC7nEwMutsVjG",
      "include_colab_link": true
    },
    "kernelspec": {
      "name": "python3",
      "display_name": "Python 3"
    },
    "language_info": {
      "name": "python"
    }
  },
  "cells": [
    {
      "cell_type": "markdown",
      "metadata": {
        "id": "view-in-github",
        "colab_type": "text"
      },
      "source": [
        "<a href=\"https://colab.research.google.com/github/MiaEastman/Introduction-to-Business-Programming/blob/main/Contest_coci16c1p1.ipynb\" target=\"_parent\"><img src=\"https://colab.research.google.com/assets/colab-badge.svg\" alt=\"Open In Colab\"/></a>"
      ]
    },
    {
      "cell_type": "code",
      "execution_count": 4,
      "metadata": {
        "id": "EZlR_3jUUFMb",
        "colab": {
          "base_uri": "https://localhost:8080/"
        },
        "outputId": "9d42347f-80a6-4b18-f643-60a684ca30db"
      },
      "outputs": [
        {
          "name": "stdout",
          "output_type": "stream",
          "text": [
            "How many months is your data plan? 3\n",
            "How many megebits were used for month 1? 2\n",
            "How many megebits were used for month 2? 3\n",
            "How many megebits were used for month 3? 5\n"
          ]
        }
      ],
      "source": [
        "#Length of data plan\n",
        "prompt = 'How many months is your data plan? ' \n",
        "month_amount = input(prompt)\n",
        "\n",
        "#Data used\n",
        "while month_amount is not reached:\n",
        "  \n",
        "prompt = 'How many megebits were used for month 1? '\n",
        "used_1 = input(prompt)\n",
        "\n",
        "prompt = 'How many megebits were used for month 2? '\n",
        "used_2 = input(prompt)\n",
        "\n",
        "prompt = 'How many megebits were used for month 3? '\n",
        "used_3 = input(prompt)\n",
        "\n",
        "#Calculate total\n"
      ]
    },
    {
      "cell_type": "code",
      "source": [
        "#input monthly megabites\n",
        "monthly_megabites = 10\n",
        "\n",
        "#input number of months\n",
        "month_amount = 3\n",
        "\n",
        "#input data used\n",
        "prompt = 'How many megebits were used for month 1? '\n",
        "used_1 = input(prompt)\n",
        "\n",
        "prompt = 'How many megebits were used for month 2? '\n",
        "used_2 = input(prompt)\n",
        "\n",
        "prompt = 'How many megebits were used for month 3? '\n",
        "used_3 = input(prompt)\n",
        "\n",
        "#calculate total\n",
        "total_1 = int(monthly_megabites - used_1)\n",
        "total_2 = int(total_1 - used_2 + monthly_megabites)\n",
        "total_3 = int(total_2 - used_3 + monthly_megabites)\n"
      ],
      "metadata": {
        "colab": {
          "base_uri": "https://localhost:8080/",
          "height": 288
        },
        "id": "EHbwQWSzXIjz",
        "outputId": "1bc1ebb2-f35f-42d5-f707-4719aac2c943"
      },
      "execution_count": 6,
      "outputs": [
        {
          "name": "stdout",
          "output_type": "stream",
          "text": [
            "How many megebits were used for month 1? 4\n",
            "How many megebits were used for month 2? 6\n",
            "How many megebits were used for month 3? 2\n"
          ]
        },
        {
          "output_type": "error",
          "ename": "TypeError",
          "evalue": "ignored",
          "traceback": [
            "\u001b[0;31m---------------------------------------------------------------------------\u001b[0m",
            "\u001b[0;31mTypeError\u001b[0m                                 Traceback (most recent call last)",
            "\u001b[0;32m<ipython-input-6-b498378f68bf>\u001b[0m in \u001b[0;36m<module>\u001b[0;34m()\u001b[0m\n\u001b[1;32m     16\u001b[0m \u001b[0;34m\u001b[0m\u001b[0m\n\u001b[1;32m     17\u001b[0m \u001b[0;31m#calculate total\u001b[0m\u001b[0;34m\u001b[0m\u001b[0;34m\u001b[0m\u001b[0;34m\u001b[0m\u001b[0m\n\u001b[0;32m---> 18\u001b[0;31m \u001b[0mtotal1\u001b[0m \u001b[0;34m=\u001b[0m \u001b[0mint\u001b[0m\u001b[0;34m(\u001b[0m\u001b[0mmonthly_megabites\u001b[0m \u001b[0;34m-\u001b[0m \u001b[0mused_1\u001b[0m\u001b[0;34m)\u001b[0m\u001b[0;34m\u001b[0m\u001b[0;34m\u001b[0m\u001b[0m\n\u001b[0m\u001b[1;32m     19\u001b[0m \u001b[0mtotal2\u001b[0m \u001b[0;34m=\u001b[0m \u001b[0mint\u001b[0m\u001b[0;34m(\u001b[0m\u001b[0mtotal1\u001b[0m \u001b[0;34m-\u001b[0m \u001b[0mused_2\u001b[0m \u001b[0;34m+\u001b[0m \u001b[0mmonthly_megabites\u001b[0m\u001b[0;34m)\u001b[0m\u001b[0;34m\u001b[0m\u001b[0;34m\u001b[0m\u001b[0m\n\u001b[1;32m     20\u001b[0m \u001b[0mtotal3\u001b[0m \u001b[0;34m=\u001b[0m \u001b[0mint\u001b[0m\u001b[0;34m(\u001b[0m\u001b[0mtotal2\u001b[0m \u001b[0;34m-\u001b[0m \u001b[0mused_3\u001b[0m \u001b[0;34m+\u001b[0m \u001b[0mmonthly_megabites\u001b[0m\u001b[0;34m)\u001b[0m\u001b[0;34m\u001b[0m\u001b[0;34m\u001b[0m\u001b[0m\n",
            "\u001b[0;31mTypeError\u001b[0m: unsupported operand type(s) for -: 'int' and 'str'"
          ]
        }
      ]
    },
    {
      "cell_type": "code",
      "source": [
        ""
      ],
      "metadata": {
        "id": "2-RFaeyVZB00"
      },
      "execution_count": null,
      "outputs": []
    },
    {
      "cell_type": "code",
      "source": [
        "megabites_"
      ],
      "metadata": {
        "id": "mqdaXCFqbiGI"
      },
      "execution_count": null,
      "outputs": []
    },
    {
      "cell_type": "code",
      "execution_count": null,
      "metadata": {
        "colab": {
          "base_uri": "https://localhost:8080/",
          "height": 131
        },
        "outputId": "3461c951-37c6-44cc-f3fe-5eaf07999cb1",
        "id": "ZS1lUnjUWBdZ"
      },
      "outputs": [
        {
          "output_type": "error",
          "ename": "SyntaxError",
          "evalue": "ignored",
          "traceback": [
            "\u001b[0;36m  File \u001b[0;32m\"<ipython-input-3-be093450caae>\"\u001b[0;36m, line \u001b[0;32m20\u001b[0m\n\u001b[0;31m    new total - used2\u001b[0m\n\u001b[0m            ^\u001b[0m\n\u001b[0;31mSyntaxError\u001b[0m\u001b[0;31m:\u001b[0m invalid syntax\n"
          ]
        }
      ],
      "source": [
        "\n",
        "\n",
        "total - used1\n",
        "new total - used2\n",
        "newtotal3 - used3 "
      ]
    }
  ]
}