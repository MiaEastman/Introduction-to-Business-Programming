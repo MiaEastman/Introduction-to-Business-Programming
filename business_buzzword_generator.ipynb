{
  "cells": [
    {
      "cell_type": "markdown",
      "metadata": {
        "id": "view-in-github",
        "colab_type": "text"
      },
      "source": [
        "<a href=\"https://colab.research.google.com/github/MiaEastman/Introduction-to-Business-Programming/blob/main/business_buzzword_generator.ipynb\" target=\"_parent\"><img src=\"https://colab.research.google.com/assets/colab-badge.svg\" alt=\"Open In Colab\"/></a>"
      ]
    },
    {
      "cell_type": "markdown",
      "id": "f8b21259-c1a0-4ecb-a02f-e35565841067",
      "metadata": {
        "id": "f8b21259-c1a0-4ecb-a02f-e35565841067"
      },
      "source": [
        "# Business Buzzword Generator\n",
        "\n",
        "Lets write a real-world business-like application using Python!\n",
        "\n",
        "Want to write a program to generate business phrases.  These could be used as\n",
        "title for presentation, podcast, video, article or just for fun.\n",
        "\n",
        "## Task 0 - Import to GitHub\n",
        "\n",
        "In a browser:\n",
        "* Login to Google\n",
        "* Login to GitHub\n",
        "* Import notebook into Colab\n",
        "* Save to GitHub. Don't forget the commit message.\n",
        "* Complete the tasks saving regularly to GitHub\n",
        "\n",
        "## Task 1 - Convert to Python!\n",
        "\n",
        "As you go through the task, keep in mind our 5-step development process:\n",
        "* State the Problem Clearly\n",
        "* Describe the input and Output\n",
        "* Work a simple example by hand\n",
        "* Develop an algorithm (and convert to Python)\n",
        "* Test solution with a variety of data\n",
        "\n",
        "For this notebook, steps 1-4 have been completed and you only need to convert \n",
        "the supplied pseudocode into Python.\n",
        "\n",
        "The program uses three lists of words. Randomly picks one word from each list \n",
        "and combines the words into a phrase.  Then print out the phrase. Here is \n",
        "the pseudocode:\n",
        "\n",
        "    importing the random module\n",
        "    make three lists, one of buzzword, one of actions, and one of outcomes\n",
        "    randomly choose one buzzword, action, and outcome from each list\n",
        "    now build the phrase by \"adding\" the words together\n",
        "    output the phrase\n",
        "\n",
        "\n",
        "A good way to use pseudocode is make each line(s) a comment(s) in the code. \n",
        "\n",
        "Each line of pseudo code has been pasted into a cell below.  \n",
        "\n",
        "Try to implement each as python statement or statements."
      ]
    },
    {
      "cell_type": "code",
      "execution_count": 1,
      "id": "6b9a2fc6-f8ae-4778-a5e7-9659136091fd",
      "metadata": {
        "id": "6b9a2fc6-f8ae-4778-a5e7-9659136091fd",
        "colab": {
          "base_uri": "https://localhost:8080/"
        },
        "outputId": "beebde21-7591-4d52-aec2-b0975251c72c"
      },
      "outputs": [
        {
          "output_type": "stream",
          "name": "stdout",
          "text": [
            "Sell Quality Artwork\n"
          ]
        }
      ],
      "source": [
        "# importing the random module\n",
        "\n",
        "import random\n",
        "\n",
        "#  make three lists, one of buzzwords, one of actions, and one of outcomes\n",
        "# Create Expressive Artwork, Sell Quality Product, Support Credible Sources\n",
        "\n",
        "buzzwords = ['Create', 'Sell', 'Support']\n",
        "actions = ['Expressive', 'Quality','Credible']\n",
        "outcomes = ['Artwork','Product', 'Sources']\n",
        "\n",
        "# randomly choose one buzzword, action, and outcome from each list\n",
        "\n",
        "buzz = random.choice(buzzwords)\n",
        "act = random.choice(actions)\n",
        "out = random.choice(outcomes)\n",
        "\n",
        "# build the phrase by \"adding\" the words together\n",
        "\n",
        "phrase = buzz +\" \"+act +\" \"+ out\n",
        "\n",
        "# output the phrase\n",
        "\n",
        "print(phrase)"
      ]
    },
    {
      "cell_type": "markdown",
      "id": "5c5d439f",
      "metadata": {
        "id": "5c5d439f"
      },
      "source": [
        "## Task 2 (Optional) - Phrase Generator\n",
        "\n",
        "This task is optional.  For this task, lets think about way we could extend\n",
        "the program.  Here are some question to think about.  No Python code is needed.\n",
        "Thinking is probably enough, but if you want you can write a couple of \n",
        "sentences on what you think is required.\n",
        "* Can it be modified to generate other types of phrases? How about three lists of ingredients, and generate simple recipes? How about and idea or project generator?\n",
        "      Yes, easily modified.\n",
        "* Why limit it to three words? \n",
        "      List can go on longer.\n",
        "* Does the order of the words matter?\n",
        "      In the list, no. In the message, yes.\n",
        "* Could we create sentences? If we create sentences, could we combine them to create paragraphs? Could we specify a topic, and have the program write an essay? Would this make it 'smart'?\n",
        "\n",
        "I suppose we could create paragraphs and specify the topic. I'd like to think theres an existing function that can something along these lines? Otherwise, would the algorihm really just be randomly organsing inputs from prompts? I'm not yet convinced that this would make it'smart'.\n"
      ]
    },
    {
      "cell_type": "code",
      "execution_count": 10,
      "id": "71838d24-05d5-44cb-ae5a-1195fd805622",
      "metadata": {
        "id": "71838d24-05d5-44cb-ae5a-1195fd805622",
        "colab": {
          "base_uri": "https://localhost:8080/"
        },
        "outputId": "7d2be1e5-7b8b-4c03-e83c-2346bdf98259"
      },
      "outputs": [
        {
          "output_type": "stream",
          "name": "stdout",
          "text": [
            "Dessert Selection: Strawberry Cheesecake with Chocolate Swirl\n"
          ]
        }
      ],
      "source": [
        "import random\n",
        "\n",
        "#Strawberry Cheesecake with Chocoloate Swirl...\n",
        "buzzwords = ['Strawberry','Vanilla','Red Velvet', 'Peacan']\n",
        "actions = ['Cheesecake', 'Icecream','Cupcakes','Pie']\n",
        "continuances = ['with', 'and']\n",
        "outcomes = ['Chocolate Swirl','Caramel Syrup','Cream Cheese Frosting','Sugar Water']\n",
        "\n",
        "buzz = random.choice(buzzwords)\n",
        "act = random.choice(actions)\n",
        "con = random.choice(continuances)\n",
        "out = random.choice(outcomes)\n",
        "\n",
        "phrase = buzz + ' ' + act + ' ' + con + ' ' + out\n",
        "\n",
        "print(\"Dessert Selection: \" + phrase)\n"
      ]
    }
  ],
  "metadata": {
    "kernelspec": {
      "display_name": "Python 3 (ipykernel)",
      "language": "python",
      "name": "python3"
    },
    "language_info": {
      "codemirror_mode": {
        "name": "ipython",
        "version": 3
      },
      "file_extension": ".py",
      "mimetype": "text/x-python",
      "name": "python",
      "nbconvert_exporter": "python",
      "pygments_lexer": "ipython3",
      "version": "3.9.6"
    },
    "colab": {
      "name": "business_buzzword_generator.ipynb",
      "provenance": [],
      "include_colab_link": true
    }
  },
  "nbformat": 4,
  "nbformat_minor": 5
}