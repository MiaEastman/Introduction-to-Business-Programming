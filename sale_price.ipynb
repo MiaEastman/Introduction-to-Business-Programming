{
  "nbformat": 4,
  "nbformat_minor": 0,
  "metadata": {
    "colab": {
      "name": "sale_price.ipynb",
      "provenance": [],
      "include_colab_link": true
    },
    "kernelspec": {
      "name": "python3",
      "display_name": "Python 3"
    },
    "language_info": {
      "name": "python"
    }
  },
  "cells": [
    {
      "cell_type": "markdown",
      "metadata": {
        "id": "view-in-github",
        "colab_type": "text"
      },
      "source": [
        "<a href=\"https://colab.research.google.com/github/MiaEastman/Introduction-to-Business-Programming/blob/main/sale_price.ipynb\" target=\"_parent\"><img src=\"https://colab.research.google.com/assets/colab-badge.svg\" alt=\"Open In Colab\"/></a>"
      ]
    },
    {
      "cell_type": "markdown",
      "metadata": {
        "id": "cgTeiXOtSPjH"
      },
      "source": [
        "# Sales Price\n",
        "\n",
        "A local department store needs to develop a program that will compute the total price (including goods and services tax) of the item on sale when given an item's original price and discount percentage.\n",
        "\n",
        "## Tasks\n",
        "* Save to Github\n",
        "* Design Algorithm\n",
        "* Write and test the program in Python"
      ]
    },
    {
      "cell_type": "markdown",
      "source": [
        "# Guide:\n",
        "\n",
        "Original price = $40\n",
        "Discount = 30%\n",
        "Sales tax = 7%\n",
        "\n",
        "discounted_price = Original - (original x discount) \n",
        "\n",
        "tax amount = tax x discount price\n",
        "\n",
        "total price = discount price + tax amount"
      ],
      "metadata": {
        "id": "B9YMusvhFAdx"
      }
    },
    {
      "cell_type": "code",
      "metadata": {
        "id": "pPIN2ZcrSqdw",
        "colab": {
          "base_uri": "https://localhost:8080/"
        },
        "outputId": "381e9438-4151-43a1-b8dd-b77310ce6c36"
      },
      "source": [
        "def calculate_total_price(original_price, discount, tax):\n",
        "  discounted_price = original_price - (original_price*discount) / 100\n",
        "  tax_payable = tax*discounted_price / 100\n",
        "  total_price = discounted_price + tax_payable\n",
        "  print('Total Price Calulation:')\n",
        "  print('The discounted total is', discounted_price)\n",
        "  print('The tax payable is', tax_payable)\n",
        "  print('Finally, the total price is', total_price)\n",
        "\n",
        "calculate_total_price(40, 30, 7)"
      ],
      "execution_count": 9,
      "outputs": [
        {
          "output_type": "stream",
          "name": "stdout",
          "text": [
            "Total Price Calulation:\n",
            "The discounted total is 28.0\n",
            "The tax payable is 1.96\n",
            "Finally, the total price is 29.96\n"
          ]
        }
      ]
    },
    {
      "cell_type": "code",
      "source": [
        "prompt = 'What is the original price? '  \n",
        "original_price = float(input(prompt))\n",
        "\n",
        "prompt = 'What is the discount rate? '\n",
        "discount = float(input(prompt))\n",
        "\n",
        "prompt = 'What is the tax rate? '\n",
        "tax = float(input(prompt))\n",
        "\n",
        "discounted_price = original_price - (original_price*discount) / 100\n",
        "tax_payable = tax*discounted_price / 100\n",
        "total_price = discounted_price + tax_payable\n",
        "\n",
        "print('Total Price Calulation:')\n",
        "print('The discounted total is', discounted_price)\n",
        "print('The tax payable is', tax_payable)\n",
        "print('Finally, the total price is', total_price)\n"
      ],
      "metadata": {
        "colab": {
          "base_uri": "https://localhost:8080/"
        },
        "id": "kmORx9OxJwYJ",
        "outputId": "b9d9e97e-b283-4e1f-d3b8-5851850a4e03"
      },
      "execution_count": 19,
      "outputs": [
        {
          "output_type": "stream",
          "name": "stdout",
          "text": [
            "What is the original price? 40\n",
            "What is the discount rate? 30\n",
            "What is the tax rate? 7\n",
            "Total Price Calulation:\n",
            "The discounted total is 28.0\n",
            "The tax payable is 1.96\n",
            "Finally, the total price is 29.96\n"
          ]
        }
      ]
    }
  ]
}