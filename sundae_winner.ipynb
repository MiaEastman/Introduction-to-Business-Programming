{
  "cells": [
    {
      "cell_type": "markdown",
      "metadata": {
        "id": "view-in-github",
        "colab_type": "text"
      },
      "source": [
        "<a href=\"https://colab.research.google.com/github/MiaEastman/Introduction-to-Business-Programming/blob/main/sundae_winner.ipynb\" target=\"_parent\"><img src=\"https://colab.research.google.com/assets/colab-badge.svg\" alt=\"Open In Colab\"/></a>"
      ]
    },
    {
      "cell_type": "markdown",
      "metadata": {
        "id": "UN8EYgdSxJ0g"
      },
      "source": [
        "# Sundae Winner \n",
        "\n",
        "Other than (maybe) in the lectures, we haven't done any programing. Even so, Python doesn't look that hard. Below is the Python code we saw last week from Sharpen_Pencil.PDF. Perform the tasks below. If you get stuckm don't worry, we will go thorough the answers.\n",
        "\n",
        "### Task 0 - Run the program\n",
        "\n",
        "To make sure you understand what is happening, try running the code a few times.\n",
        "\n",
        "``` To run the code, click insode the cell and either click the 'play' icon or hit shift+enter together``` \n",
        "\n",
        "\n",
        "### Task 1 - Understanding input\n",
        "\n",
        "**Which of the following will give you a cherry on top?** What happens if when the program asks (prompts) you for a cherry on top you type (notice the different uppercase letters in the input): \n",
        "\n",
        "1. Yes\n",
        "2. yeS\n",
        "3. YES\n",
        "4. yes\n",
        "5. no\n",
        "6. NO\n",
        "\n",
        "***Only number 4, \"yes\", because the system is case sensitive. Therefore, none of the responses with uppercase will register.***\n",
        "\n",
        "### Task 2 - editing a program\n",
        "\n",
        "Other than in the lectures, we haven't done any programing. Even so, Python doesn't look that hard.  Try to make the following following changes, if you get stuckm don't worry, your lecturer will go thorough the answers:\n",
        "* Change 'Stacie' to 'Stacy'\n",
        "* Add your name to the list"
      ]
    },
    {
      "cell_type": "code",
      "execution_count": 6,
      "metadata": {
        "colab": {
          "base_uri": "https://localhost:8080/"
        },
        "id": "y4lK6jddpTME",
        "outputId": "780d9bf0-e315-4dbe-86ee-8acb47616c1d"
      },
      "outputs": [
        {
          "output_type": "stream",
          "name": "stdout",
          "text": [
            "Congratulations Jimmy you have won an ice cream sundae!\n",
            "Would you like a cherry on top? yes\n",
            "One vanilla sundae with a cherry on top for Jimmy coming right up...\n"
          ]
        }
      ],
      "source": [
        "import random\n",
        "\n",
        "customers =  ['Jimmy', 'Kim', 'John', 'Stacy', 'Mia']\n",
        "\n",
        "winner = random.choice(customers)\n",
        "\n",
        "flavor = 'vanilla'\n",
        "\n",
        "print('Congratulations ' + winner +\n",
        " ' you have won an ice cream sundae!')\n",
        "\n",
        "prompt = 'Would you like a cherry on top? '\n",
        "\n",
        "wants_cherry = input(prompt)\n",
        "\n",
        "order = flavor + ' sundae '\n",
        "\n",
        "if (wants_cherry == 'yes'):\n",
        " order = order + 'with a cherry on top'\n",
        "\n",
        "print('One ' + order + ' for ' + winner +\n",
        " ' coming right up...')"
      ]
    },
    {
      "cell_type": "markdown",
      "metadata": {
        "id": "46hfvB5pxMex"
      },
      "source": [
        "### Task 3 - Workflow\n",
        "\n",
        "After each change, rerun the program to make sure the chages has been applied. When you have the change has worked, save the notebook to GitHub.\n",
        "\n",
        "Here is our workflow\n",
        "* Open/Create/import notebook into Colab\n",
        "* Make sure notebook has meaningfuly name\n",
        "* Design, edit make changest in Colab Tab\n",
        "* Save regulary to GitHub (close GitHub window after save)\n",
        "* Continue with edits in the colab tab.\n",
        "\n",
        "**Saved to my github public repository \"Introduction-to-Business-Programming\"** \n",
        "\n",
        "\n",
        "# The Program itself \n",
        "\n",
        "We will talk more about the ```import``` statement later lecture, but briefly **it is a way of letting you use code from elsewhere**.  We call this process ```import``` and the code form else where is bundled into a package or modules.    So in the following, some programmer worked out how to get the comuter to generate random numbers, and put this into a module called ```random```.  Since we want to use use we need to ```import``` the module.\n",
        "\n",
        "***Import allows us to utilize functions from a home library.***"
      ]
    },
    {
      "cell_type": "markdown",
      "metadata": {
        "id": "HrxSqDWcv456"
      },
      "source": [
        "### Task 4 - Multiple winners\n",
        "\n",
        "No coding is required for this task, this is a thiking exercise where you can write your ideas down.  We are not worried  about how to do it specifically in Python. It is more important to think about what needs to be done. Google, StackOverflow, Books, etc., will help with the how. The hard part is working out the what (Problem-solving).\n",
        "\n",
        "***How could the program to have two people win a sundae?  What steps need to be added?***"
      ]
    },
    {
      "cell_type": "markdown",
      "metadata": {
        "id": "cQ0H5ROQDYZ3"
      },
      "source": [
        "# **Problem Solving Methodology:**\n",
        "1.  State the problem clearly... **There needs to be two sundae winners, previously there was only one.**\n",
        "2.   Describe the input and output... **There are multiple solutions for this exercise. Once the first winner is selected, they must be removed from the list, otherwise they could be selected a second time. There should be two seperate prompts for each winner so they can have their own input to the question/order. We could duplicate the instructions for winner selection by creating a second winner variable. We can either manually duplicate the instuctions or use a loop until the condition of a second winner is satified. We could also use the function len to check if the list still contains customers available for the competion. The outout would be a random selection of two sundae winners.** \n",
        "\n",
        "1.   Work a simple example by hand...\n",
        "2.   Develop and algorithim...\n",
        "\n",
        "1.   Test solution with a variety of data...\n"
      ]
    },
    {
      "cell_type": "code",
      "execution_count": 17,
      "metadata": {
        "colab": {
          "base_uri": "https://localhost:8080/"
        },
        "id": "CmlE79fnFYWO",
        "outputId": "fcbf8a23-9863-451b-b633-472d0c2f5ec5"
      },
      "outputs": [
        {
          "output_type": "stream",
          "name": "stdout",
          "text": [
            "Congratulations Mia you have won an ice cream sundae!\n",
            "Would you like a cherry on top? yes\n",
            "One vanilla sundae with a cherry on top for Mia coming right up...\n",
            "Congratulations Stacy you have won an icecream sundae!\n",
            "Would you like a cherry on top? yes\n",
            "One vanilla sundae with a cherry on top for Stacy coming right up...\n"
          ]
        }
      ],
      "source": [
        "import random\n",
        "\n",
        "customers =  ['Jimmy', 'Kim', 'John', 'Stacy', 'Mia']\n",
        "\n",
        "winner_1 = random.choice(customers)\n",
        "\n",
        "#del winner_1 from the customer list\n",
        "\n",
        "flavor = 'vanilla'\n",
        "\n",
        "print('Congratulations ' + winner_1 +\n",
        " ' you have won an ice cream sundae!')\n",
        "\n",
        "prompt = 'Would you like a cherry on top? '\n",
        "\n",
        "wants_cherry_1 = input(prompt)\n",
        "\n",
        "order_1 = flavor + ' sundae '\n",
        "\n",
        "if (wants_cherry_1 == 'yes'):\n",
        " order_1 = order_1 + 'with a cherry on top'\n",
        "\n",
        "print('One ' + order_1 + ' for ' + winner_1 +\n",
        " ' coming right up...')\n",
        "\n",
        "\n",
        "\n",
        "winner_2 = random.choice(customers)\n",
        "\n",
        "print('Congratulations ' + winner_2 + ' you have won an icecream sundae!')\n",
        "\n",
        "promt = 'Would you like an cherry on top?'\n",
        "\n",
        "wants_cherry_2 =input(prompt)\n",
        "\n",
        "order_2 = flavor + ' sundae '\n",
        "\n",
        "if (wants_cherry_2) == 'yes':\n",
        "  order_2 = order_2 + 'with a cherry on top'\n",
        "\n",
        "print('One ' + order_2 + ' for ' + winner_2 +' coming right up...')"
      ]
    }
  ],
  "metadata": {
    "colab": {
      "name": "sundae_winner.ipynb",
      "provenance": [],
      "collapsed_sections": [],
      "include_colab_link": true
    },
    "kernelspec": {
      "display_name": "Python 3",
      "name": "python3"
    },
    "language_info": {
      "name": "python"
    }
  },
  "nbformat": 4,
  "nbformat_minor": 0
}