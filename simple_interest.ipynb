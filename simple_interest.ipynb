{
  "cells": [
    {
      "cell_type": "markdown",
      "metadata": {
        "id": "view-in-github",
        "colab_type": "text"
      },
      "source": [
        "<a href=\"https://colab.research.google.com/github/MiaEastman/Introduction-to-Business-Programming/blob/main/simple_interest.ipynb\" target=\"_parent\"><img src=\"https://colab.research.google.com/assets/colab-badge.svg\" alt=\"Open In Colab\"/></a>"
      ]
    },
    {
      "cell_type": "markdown",
      "id": "b7a42e71-7361-4878-a06f-0fc857db581f",
      "metadata": {
        "id": "b7a42e71-7361-4878-a06f-0fc857db581f"
      },
      "source": [
        "# Simple Interest Calculator\n",
        "\n",
        "The process of problem solving we will use can be broken down into 5 key steps:\n",
        "1. State the problem clearly\n",
        "2. Describe the input and output information\n",
        "3. Work the problem by hand\n",
        "4. Develop an algorithm (and convert to python) \n",
        "5. Test solution with a variety of data\n",
        "\n",
        "\n",
        "### 1. State Problem Clearly\n",
        "\n",
        "Simple interest in a bank is given by the formula:\n",
        "\n",
        "    Simple Interest = (Ammount Borrowed  x  Interest Rate * years) / 100\n",
        "    \n",
        "\n",
        "### 2. Describe Inputs/Outputs\n",
        "\n",
        "\n",
        "| input | processing | output|\n",
        "|-------|------------|-------|\n",
        "| Amount Borowed |    | Simple Interest |\n",
        "| Interest Rate | | |\n",
        "| Loan Period | | | \n",
        "\n",
        "### 3. Work the problme by hand\n",
        "\n",
        "Borrowed $10,000\n",
        "Interest Rate of 2%\n",
        "Lenghtof loan is 5 years\n",
        "\n",
        "\n",
        "Simple interest \n",
        "=  (10,000 * 2 * 5) / 100\n",
        "= 1,000\n",
        "\n",
        "### 4. Develop and algorithm\n",
        "\n",
        "Here is the pseudocode\n",
        "\n",
        "        Get the amount borrowed\n",
        "        Get the interest rate\n",
        "        Get the loan period\n",
        "        let simple interest = (ammount borrowed * interest rate * loan period) / 100\n",
        "        print The total interest on the loan is: simple interest\n"
      ]
    },
    {
      "cell_type": "code",
      "execution_count": 4,
      "id": "f9a6e70b-c83a-4513-90d7-3cbcfbf9cde7",
      "metadata": {
        "id": "f9a6e70b-c83a-4513-90d7-3cbcfbf9cde7",
        "colab": {
          "base_uri": "https://localhost:8080/"
        },
        "outputId": "3ecef4aa-f37d-4b03-8261-1442fa24ea5a"
      },
      "outputs": [
        {
          "output_type": "stream",
          "name": "stdout",
          "text": [
            "1000.0\n"
          ]
        }
      ],
      "source": [
        "# Get the amount borrowed\n",
        "amount_borrowed = 10000.0\n",
        "\n",
        "# Get the interest rate\n",
        "interest_rate = 2\n",
        "\n",
        "# Get the loan period\n",
        "loan_period = 5          \n",
        "\n",
        "# let simple interest = (ammount borrowed * interest rate * loan period)\n",
        "simple_interest = (amount_borrowed*interest_rate*loan_period)/100\n",
        "\n",
        "# print The total interest on the loan is: simple interest\n",
        "print(simple_interest)"
      ]
    },
    {
      "cell_type": "code",
      "source": [
        "def calculate_simple_interest(amount, rate, period):\n",
        "  "
      ],
      "metadata": {
        "id": "7_m0-i8onx1m"
      },
      "id": "7_m0-i8onx1m",
      "execution_count": null,
      "outputs": []
    },
    {
      "cell_type": "markdown",
      "id": "26e44634-3041-4ffb-acd9-fa11eb36f2df",
      "metadata": {
        "id": "26e44634-3041-4ffb-acd9-fa11eb36f2df"
      },
      "source": [
        "### 5. Test with a variety of data.\n",
        "\n",
        "We could modify the above cell with new data and then run the code.  But rather than type in different values each time, perhaps it easier to be prompted for the infromation.  \n",
        "\n",
        "Write a version that uses the input() function to prompt the user for the required data."
      ]
    },
    {
      "cell_type": "code",
      "execution_count": 7,
      "id": "4299ad3d-5672-42fa-bf17-fbf7360e66c5",
      "metadata": {
        "id": "4299ad3d-5672-42fa-bf17-fbf7360e66c5",
        "colab": {
          "base_uri": "https://localhost:8080/"
        },
        "outputId": "32039413-500b-4c32-d73b-98d6250f1f08"
      },
      "outputs": [
        {
          "output_type": "stream",
          "name": "stdout",
          "text": [
            "What amount did you borrow? 10000\n",
            "At what interest rate? 2\n",
            "How long is the loan period? 5\n",
            "1000.0\n"
          ]
        }
      ],
      "source": [
        "prompt = 'What amount did you borrow? '\n",
        "amount_borrowed = input(prompt)\n",
        "\n",
        "prompt = 'At what interest rate? '\n",
        "interest_rate = input(prompt)\n",
        "\n",
        "prompt = 'How long is the loan period? '\n",
        "loan_period = input(prompt)\n",
        "\n",
        "simple_interest = int(amount_borrowed)*int(interest_rate)*int(loan_period)/100\n",
        "\n",
        "print(simple_interest)\n"
      ]
    },
    {
      "cell_type": "code",
      "source": [
        "type(amount_borrowed)\n"
      ],
      "metadata": {
        "colab": {
          "base_uri": "https://localhost:8080/"
        },
        "id": "evG0TVt_bQhE",
        "outputId": "b197c1ec-d7c9-42fa-834f-dad81e4edb07"
      },
      "id": "evG0TVt_bQhE",
      "execution_count": 50,
      "outputs": [
        {
          "output_type": "execute_result",
          "data": {
            "text/plain": [
              "str"
            ]
          },
          "metadata": {},
          "execution_count": 50
        }
      ]
    },
    {
      "cell_type": "markdown",
      "source": [
        "At first I recieved the error message \"can't multiple a sequence by non-int of type 'str'.\"\n",
        "\n",
        "This confused me because the prompt responses (inputs) are intergers. Although, I understand the system reads their variables as str, I used the type() function to figure this. I read online that you can try converting the str to an int or float, which you can see above, \"int()\"."
      ],
      "metadata": {
        "id": "tTlZWTWLIhSv"
      },
      "id": "tTlZWTWLIhSv"
    }
  ],
  "metadata": {
    "kernelspec": {
      "display_name": "Python 3 (ipykernel)",
      "language": "python",
      "name": "python3"
    },
    "language_info": {
      "codemirror_mode": {
        "name": "ipython",
        "version": 3
      },
      "file_extension": ".py",
      "mimetype": "text/x-python",
      "name": "python",
      "nbconvert_exporter": "python",
      "pygments_lexer": "ipython3",
      "version": "3.9.6"
    },
    "colab": {
      "name": "simple_interest.ipynb",
      "provenance": [],
      "include_colab_link": true
    }
  },
  "nbformat": 4,
  "nbformat_minor": 5
}