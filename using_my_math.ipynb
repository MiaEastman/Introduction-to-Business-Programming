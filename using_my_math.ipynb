{
  "nbformat": 4,
  "nbformat_minor": 0,
  "metadata": {
    "colab": {
      "name": "using_my_math.ipynb",
      "provenance": [],
      "include_colab_link": true
    },
    "kernelspec": {
      "name": "python3",
      "display_name": "Python 3"
    },
    "language_info": {
      "name": "python"
    }
  },
  "cells": [
    {
      "cell_type": "markdown",
      "metadata": {
        "id": "view-in-github",
        "colab_type": "text"
      },
      "source": [
        "<a href=\"https://colab.research.google.com/github/MiaEastman/Introduction-to-Business-Programming/blob/main/using_my_math.ipynb\" target=\"_parent\"><img src=\"https://colab.research.google.com/assets/colab-badge.svg\" alt=\"Open In Colab\"/></a>"
      ]
    },
    {
      "cell_type": "markdown",
      "source": [
        "# Test Module: my_math.ipynb\n",
        "\n",
        "In this notebook, write some code to test the functions in *my_math.ipynb* by importing the file as python module. *my_math.ipynb* has some basic arithmetic functions in it.\n",
        "\n",
        "We will try importing as a python script and as a notebook.\n",
        "\n",
        "## Task 0 - Import this notebook to GitHub\n",
        "Save the notebook to your local GitHub repository.\n",
        "\n",
        "## Task 1 - Import as a Python script\n",
        "To do this you will need to:\n",
        "* open my_math.ipynb from the ISYS2001 Worksheets repository\n",
        "* download/save as my_math.py\n",
        "* from this notebook upload my_math.py.  This will put it in the same folder as this notebook.\n",
        "* Import the my_math module\n",
        "\n",
        "    import my_math\n",
        "* write some code to test the functions in my_math module"
      ],
      "metadata": {
        "id": "pM6Ipzg-fJzT"
      }
    },
    {
      "cell_type": "code",
      "execution_count": null,
      "metadata": {
        "id": "vc2SBxd8fDyE",
        "outputId": "2fd3b20f-b700-4f49-e23e-5ebce07d2180",
        "colab": {
          "base_uri": "https://localhost:8080/"
        }
      },
      "outputs": [
        {
          "output_type": "stream",
          "name": "stdout",
          "text": [
            "9\n",
            "3\n",
            "6\n",
            "4.0\n"
          ]
        }
      ],
      "source": [
        "import my_math\n",
        "\n",
        "example_1 = my_math.add(5,4)\n",
        "example_2 = my_math.subtract(4,1)\n",
        "example_3 = my_math.multiply(2,3)\n",
        "example_4 = my_math.divide(8,2)\n",
        "\n",
        "print(example_1)\n",
        "print(example_2)\n",
        "print(example_3)\n",
        "print(example_4)"
      ]
    },
    {
      "cell_type": "markdown",
      "source": [
        "## Task 2 - Import as a Notebook\n",
        "\n",
        "To do this you will need:\n",
        "* intall margo loader\n",
        "* open my_math.ipynb from the ISYS2001 Worksheets repository\n",
        "* download as a notebook my_math.ipynb\n",
        "* from this notebook upload my_math.ipynb.  This will put it in the same folder as this notebook.\n",
        "* import the notebook\n",
        "    import margo_loader\n",
        "    import my_math\n",
        "\n",
        "* Wrtie some code to test the functions in my_math notebook \n"
      ],
      "metadata": {
        "id": "3mChsfz3hbv2"
      }
    },
    {
      "cell_type": "code",
      "source": [
        "!pip -q install margo-loader"
      ],
      "metadata": {
        "id": "QOOQhfvIiOss",
        "outputId": "a48ebaed-0c58-4ab0-b540-240275baa70c",
        "colab": {
          "base_uri": "https://localhost:8080/"
        }
      },
      "execution_count": 1,
      "outputs": [
        {
          "output_type": "stream",
          "name": "stdout",
          "text": [
            "\u001b[?25l\r\u001b[K     |██                              | 10 kB 21.1 MB/s eta 0:00:01\r\u001b[K     |███▉                            | 20 kB 27.4 MB/s eta 0:00:01\r\u001b[K     |█████▊                          | 30 kB 33.9 MB/s eta 0:00:01\r\u001b[K     |███████▊                        | 40 kB 16.4 MB/s eta 0:00:01\r\u001b[K     |█████████▋                      | 51 kB 6.8 MB/s eta 0:00:01\r\u001b[K     |███████████▌                    | 61 kB 7.8 MB/s eta 0:00:01\r\u001b[K     |█████████████▍                  | 71 kB 8.9 MB/s eta 0:00:01\r\u001b[K     |███████████████▍                | 81 kB 9.9 MB/s eta 0:00:01\r\u001b[K     |█████████████████▎              | 92 kB 10.9 MB/s eta 0:00:01\r\u001b[K     |███████████████████▏            | 102 kB 10.9 MB/s eta 0:00:01\r\u001b[K     |█████████████████████▏          | 112 kB 10.9 MB/s eta 0:00:01\r\u001b[K     |███████████████████████         | 122 kB 10.9 MB/s eta 0:00:01\r\u001b[K     |█████████████████████████       | 133 kB 10.9 MB/s eta 0:00:01\r\u001b[K     |██████████████████████████▉     | 143 kB 10.9 MB/s eta 0:00:01\r\u001b[K     |████████████████████████████▉   | 153 kB 10.9 MB/s eta 0:00:01\r\u001b[K     |██████████████████████████████▊ | 163 kB 10.9 MB/s eta 0:00:01\r\u001b[K     |████████████████████████████████| 170 kB 10.9 MB/s \n",
            "\u001b[K     |████████████████████████████████| 87 kB 6.0 MB/s \n",
            "\u001b[K     |████████████████████████████████| 269 kB 46.8 MB/s \n",
            "\u001b[?25h  Building wheel for pyyaml (setup.py) ... \u001b[?25l\u001b[?25hdone\n",
            "\u001b[31mERROR: pip's dependency resolver does not currently take into account all the packages that are installed. This behaviour is the source of the following dependency conflicts.\n",
            "nbclient 0.5.13 requires jupyter-client>=6.1.5, but you have jupyter-client 5.3.5 which is incompatible.\u001b[0m\n"
          ]
        }
      ]
    },
    {
      "cell_type": "code",
      "source": [
        "import margo_loader\n",
        "import my_math"
      ],
      "metadata": {
        "id": "UDQWKEnOwFrD",
        "outputId": "b9df710c-6e96-4425-f986-3d51402b60b4",
        "colab": {
          "base_uri": "https://localhost:8080/"
        }
      },
      "execution_count": 2,
      "outputs": [
        {
          "output_type": "stream",
          "name": "stdout",
          "text": [
            "This is a notebook\n"
          ]
        }
      ]
    },
    {
      "cell_type": "code",
      "source": [
        "example_5 = my_math.add(9,4)\n",
        "example_6 = my_math.subtract(10,1)\n",
        "example_7 = my_math.multiply(3,3)\n",
        "example_8 = my_math.divide(5,2)\n",
        "\n",
        "print(example_5)\n",
        "print(example_6)\n",
        "print(example_7)\n",
        "print(example_8)"
      ],
      "metadata": {
        "id": "eQ_X5S0VwQbX",
        "outputId": "19f3bf52-280c-413e-83ae-5e884794a288",
        "colab": {
          "base_uri": "https://localhost:8080/"
        }
      },
      "execution_count": 3,
      "outputs": [
        {
          "output_type": "stream",
          "name": "stdout",
          "text": [
            "13\n",
            "9\n",
            "9\n",
            "2.5\n"
          ]
        }
      ]
    }
  ]
}